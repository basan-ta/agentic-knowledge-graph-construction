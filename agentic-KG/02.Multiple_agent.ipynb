{
 "cells": [
  {
   "cell_type": "markdown",
   "id": "3a5f060e",
   "metadata": {},
   "source": [
    "Building my first multi-agent system.\n"
   ]
  },
  {
   "cell_type": "code",
   "execution_count": null,
   "id": "3483deeb",
   "metadata": {},
   "outputs": [],
   "source": [
    "import os \n",
    "from google.adk.agents import Agent\n",
    "from google.adk.models.lite_llm import litellm\n",
    "from google.adk.sessions import InMemorySessionStore\n",
    "from google.adk.runners import Runner\n",
    "from google.adk.genai import types \n",
    "from typing import Optional, Dict, Any\n",
    "\n",
    "# Convenience libraries for working with Neo4j inside of Google ADK\n",
    "from neo4j_for_adk import graphdb\n",
    "\n",
    "\n"
   ]
  }
 ],
 "metadata": {
  "kernelspec": {
   "display_name": ".venv",
   "language": "python",
   "name": "python3"
  },
  "language_info": {
   "name": "python",
   "version": "3.10.16"
  }
 },
 "nbformat": 4,
 "nbformat_minor": 5
}
