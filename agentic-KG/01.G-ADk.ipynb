{
 "cells": [
  {
   "cell_type": "code",
   "execution_count": null,
   "id": "3aedc975",
   "metadata": {},
   "outputs": [],
   "source": [
    "import os \n",
    "from google.adk.agents import Agent\n",
    "from google.adk.models.lite_llm import LiteLlm  # For OpenAI support\n",
    "from google.adk.sessions import InMemorySessionService \n",
    "from google.adk.runners import Runner \n",
    "from google.genai import types # For GenAI types like Text, Image, etc.\n",
    "from typing import Optional, Dict, Any\n",
    "\n",
    "import warnings\n",
    "# Ignore all warnings\n",
    "warnings.filterwarnings(\"ignore\")\n",
    "\n",
    "import logging\n",
    "logging.basicConfig(level=logging.CRITICAL)\n",
    "print(\"Libraries imported successfully.\")"
   ]
  },
  {
   "cell_type": "code",
   "execution_count": null,
   "id": "8f347d1d",
   "metadata": {},
   "outputs": [],
   "source": [
    "# Define Model Constants for easier use\n",
    "MODEL_GPT = \"openai/gpt-4o\"\n",
    "\n",
    "llm = LiteLlm(model=MODEL_GPT)\n",
    "\n",
    "# Test LLM with a direct call\n",
    "print(\n",
    "    llm.llm_client.completion(\n",
    "        model=llm.model,\n",
    "        messages=[{\"role\": \"user\", \"content\": \"Are you ready?\"}],\n",
    "        tools=[],\n",
    "    )\n",
    ")\n",
    "\n",
    "print(\"\\nOpenAI is ready for use.\")"
   ]
  },
  {
   "cell_type": "code",
   "execution_count": null,
   "id": "4c6554ef",
   "metadata": {},
   "outputs": [],
   "source": [
    "# Convenience libraries for working with Neo4j inside of Google ADK\n",
    "from neo4j import graphdb"
   ]
  },
  {
   "cell_type": "code",
   "execution_count": null,
   "id": "41047b96",
   "metadata": {},
   "outputs": [],
   "source": [
    "# Sending a simple query to the database\n",
    "neo4j_is_ready = graphdb.send_query(\"RETURN 'Neo4j is Ready!' as message\")\n",
    "\n",
    "print(neo4j_is_ready)"
   ]
  },
  {
   "cell_type": "markdown",
   "id": "b60f4d41",
   "metadata": {},
   "source": [
    "Optional Note: Neo4j Database Setup\n",
    "We set up the database as a sidecar container. You can find the Docker installation instructions (and others) here. We configured the username and password as part of the database setup. We also installed a plugin called APOC (which will be needed in the last notebook). We defined these environment variables, which are used by neo4j_for_adk.py:\n",
    "\n",
    "NEO4J_URI=\"bolt://localhost:7687\"\n",
    "NEO4J_USERNAME=\"your_database_username\"\n",
    "NEO4J_PASSWORD=\"your_database_password\""
   ]
  },
  {
   "cell_type": "code",
   "execution_count": null,
   "id": "43203130",
   "metadata": {},
   "outputs": [],
   "source": [
    "# Define a basic tool -- send a parameterized cypher query\n",
    "def say_hello(person_name: str) -> dict:\n",
    "    \"\"\"Formats a welcome message to a named person.\n",
    "\n",
    "    Args:\n",
    "        person_name (str): the name of the person saying hello\n",
    "\n",
    "    Returns:\n",
    "        dict: A dictionary containing the results of the query.\n",
    "              Includes a 'status' key ('success' or 'error').\n",
    "              If 'success', includes a 'query_result' key with an array of result rows.\n",
    "              If 'error', includes an 'error_message' key.\n",
    "    \"\"\"\n",
    "    return graphdb.send_query(\n",
    "        \"RETURN 'Hello to you, ' + $person_name AS reply\", {\"person_name\": person_name}\n",
    "    )"
   ]
  }
 ],
 "metadata": {
  "kernelspec": {
   "display_name": ".venv",
   "language": "python",
   "name": "python3"
  },
  "language_info": {
   "codemirror_mode": {
    "name": "ipython",
    "version": 3
   },
   "file_extension": ".py",
   "mimetype": "text/x-python",
   "name": "python",
   "nbconvert_exporter": "python",
   "pygments_lexer": "ipython3",
   "version": "3.10.16"
  }
 },
 "nbformat": 4,
 "nbformat_minor": 5
}
