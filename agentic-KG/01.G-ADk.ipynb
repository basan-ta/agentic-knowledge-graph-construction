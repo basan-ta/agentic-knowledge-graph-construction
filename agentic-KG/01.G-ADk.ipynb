{
 "cells": [
  {
   "cell_type": "code",
   "execution_count": null,
   "id": "3aedc975",
   "metadata": {},
   "outputs": [],
   "source": [
    "import os \n",
    "from google.adk.agents import Agent\n",
    "from google.adk.models.lite_llm import LiteLlm  # For OpenAI support\n",
    "from google.adk.sessions import InMemorySessionService \n",
    "from google.adk.runners import Runner \n",
    "from google.genai import types # For GenAI types like Text, Image, etc.\n",
    "from typing import Optional, Dict, Any\n",
    "\n",
    "import warnings\n",
    "# Ignore all warnings\n",
    "warnings.filterwarnings(\"ignore\")\n",
    "\n",
    "import logging\n",
    "logging.basicConfig(level=logging.CRITICAL)\n",
    "print(\"Libraries imported successfully.\")"
   ]
  },
  {
   "cell_type": "code",
   "execution_count": null,
   "id": "8f347d1d",
   "metadata": {},
   "outputs": [],
   "source": [
    "# Define Model Constants for easier use\n",
    "MODEL_GPT = \"openai/gpt-4o\"\n",
    "\n",
    "llm = LiteLlm(model=MODEL_GPT)\n",
    "\n",
    "# Test LLM with a direct call\n",
    "print(\n",
    "    llm.llm_client.completion(\n",
    "        model=llm.model,\n",
    "        messages=[{\"role\": \"user\", \"content\": \"Are you ready?\"}],\n",
    "        tools=[],\n",
    "    )\n",
    ")\n",
    "\n",
    "print(\"\\nOpenAI is ready for use.\")"
   ]
  },
  {
   "cell_type": "code",
   "execution_count": 3,
   "id": "4c6554ef",
   "metadata": {},
   "outputs": [
    {
     "ename": "ModuleNotFoundError",
     "evalue": "No module named 'neo4j_for_adk'",
     "output_type": "error",
     "traceback": [
      "\u001b[0;31m---------------------------------------------------------------------------\u001b[0m",
      "\u001b[0;31mModuleNotFoundError\u001b[0m                       Traceback (most recent call last)",
      "Cell \u001b[0;32mIn[3], line 2\u001b[0m\n\u001b[1;32m      1\u001b[0m \u001b[38;5;66;03m# Convenience libraries for working with Neo4j inside of Google ADK\u001b[39;00m\n\u001b[0;32m----> 2\u001b[0m \u001b[38;5;28;01mfrom\u001b[39;00m\u001b[38;5;250m \u001b[39m\u001b[38;5;21;01mneo4j_for_adk\u001b[39;00m\u001b[38;5;250m \u001b[39m\u001b[38;5;28;01mimport\u001b[39;00m graphdb\n",
      "\u001b[0;31mModuleNotFoundError\u001b[0m: No module named 'neo4j_for_adk'"
     ]
    }
   ],
   "source": [
    "# Convenience libraries for working with Neo4j inside of Google ADK\n",
    "from neo4j_for_adk import graphdb"
   ]
  },
  {
   "cell_type": "code",
   "execution_count": 4,
   "id": "41047b96",
   "metadata": {},
   "outputs": [
    {
     "name": "stdout",
     "output_type": "stream",
     "text": [
      "Requirement already satisfied: neo4j~=5.28.0 in /Users/basantashrestha/Documents/02_Learning/Try_code /Agentic-knowledge-graph/.venv/lib/python3.10/site-packages (5.28.2)\n",
      "Requirement already satisfied: pytz in /Users/basantashrestha/Documents/02_Learning/Try_code /Agentic-knowledge-graph/.venv/lib/python3.10/site-packages (from neo4j~=5.28.0) (2025.2)\n",
      "Note: you may need to restart the kernel to use updated packages.\n"
     ]
    }
   ],
   "source": [
    "pip install neo4j~=5.28.0"
   ]
  }
 ],
 "metadata": {
  "kernelspec": {
   "display_name": ".venv",
   "language": "python",
   "name": "python3"
  },
  "language_info": {
   "codemirror_mode": {
    "name": "ipython",
    "version": 3
   },
   "file_extension": ".py",
   "mimetype": "text/x-python",
   "name": "python",
   "nbconvert_exporter": "python",
   "pygments_lexer": "ipython3",
   "version": "3.10.16"
  }
 },
 "nbformat": 4,
 "nbformat_minor": 5
}
